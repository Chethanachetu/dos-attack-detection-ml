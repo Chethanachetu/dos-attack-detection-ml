{
 "cells": [
  {
   "cell_type": "markdown",
   "id": "548c3cd0",
   "metadata": {},
   "source": [
    "# DoS Attack Detection using Machine Learning\n",
    "\n",
    "This notebook demonstrates a basic ML model to detect DoS attacks.\n"
   ]
  },
  {
   "cell_type": "code",
   "execution_count": null,
   "id": "a5aa1cf5",
   "metadata": {},
   "outputs": [],
   "source": [
    "\n",
    "import pandas as pd\n",
    "from sklearn.model_selection import train_test_split\n",
    "from sklearn.ensemble import RandomForestClassifier\n",
    "from sklearn.metrics import accuracy_score, classification_report\n",
    "\n",
    "# Load dataset\n",
    "data = pd.read_csv(\"sample_dos_dataset.csv\")\n",
    "\n",
    "X = data.drop(\"attack_type\", axis=1)\n",
    "y = data[\"attack_type\"]\n",
    "\n",
    "# Train-test split\n",
    "X_train, X_test, y_train, y_test = train_test_split(X, y, test_size=0.2, random_state=42)\n",
    "\n",
    "model = RandomForestClassifier()\n",
    "model.fit(X_train, y_train)\n",
    "\n",
    "pred = model.predict(X_test)\n",
    "\n",
    "print(\"Accuracy:\", accuracy_score(y_test, pred))\n",
    "print(classification_report(y_test, pred))\n"
   ]
  }
 ],
 "metadata": {},
 "nbformat": 4,
 "nbformat_minor": 5
}
